{
 "cells": [
  {
   "cell_type": "code",
   "execution_count": 3,
   "metadata": {},
   "outputs": [
    {
     "name": "stdout",
     "output_type": "stream",
     "text": [
      "Enter the number of input values :10\n",
      "44\n",
      "66\n",
      "77\n",
      "88\n",
      "99\n",
      "00\n",
      "34\n",
      "53\n",
      "67\n",
      "87\n",
      "[44, 66, 77, 88, 99, 0, 34, 53, 67, 87]\n",
      "Even numbers in the list:  5\n",
      "Odd numbers in the list:  5\n"
     ]
    }
   ],
   "source": [
    "''' Write a Python program to count the number of even and odd numbers from a series of numbers.'''\n",
    "lst = []\n",
    "n = int(input(\"Enter the number of input values :\"))\n",
    "for i in range (0,n):\n",
    "    elements = int(input())\n",
    "    lst.append(elements)\n",
    "print(lst)\n",
    "even_count, odd_count = 0, 0\n",
    "for i in lst :\n",
    "    if i%2==0:\n",
    "        even_count +=1\n",
    "    else:\n",
    "        odd_count += 1\n",
    "          \n",
    "print(\"Even numbers in the list: \", even_count)\n",
    "print(\"Odd numbers in the list: \", odd_count)"
   ]
  },
  {
   "cell_type": "code",
   "execution_count": null,
   "metadata": {},
   "outputs": [],
   "source": [
    "'''Write a Python program to find numbers between 100 and 400 (both included) where each digit of a number is an even number. The numbers obtained should be printed in a comma-separated sequence'''\n",
    "n1= 400\n",
    "for i in range(100,n1):\n",
    "    if i%2==0:\n",
    "        print(i,end=', ')\n",
    "  "
   ]
  },
  {
   "cell_type": "code",
   "execution_count": 4,
   "metadata": {},
   "outputs": [
    {
     "name": "stdout",
     "output_type": "stream",
     "text": [
      "Input a dog's age in human years:20\n",
      "The dog's age in dog's years is: 93\n"
     ]
    }
   ],
   "source": [
    "''' Write a Python program to calculate a dog's age in dog's years'''\n",
    "dogs_age = int(input(\"Input a dog's age in human years:\"))\n",
    "if dogs_age < 0:\n",
    "    print(\"Age must be positive number.\")\n",
    "    exit()\n",
    "elif dogs_age <= 2:\n",
    "   h_age = dogs_age *10.5\n",
    "else :\n",
    "   h_age = 21 + (dogs_age-2)*4\n",
    "print(\"The dog's age in dog's years is:\" ,h_age)\n"
   ]
  },
  {
   "cell_type": "code",
   "execution_count": 11,
   "metadata": {},
   "outputs": [
    {
     "name": "stdout",
     "output_type": "stream",
     "text": [
      "10000\n"
     ]
    }
   ],
   "source": [
    "'''Write a Python function to find the Max of three numbers.'''\n",
    "def maximum(a,b,c):\n",
    "    list =[a,b,c]\n",
    "    return max(list)\n",
    "a = 19\n",
    "b = 100\n",
    "c = 10000\n",
    "print(maximum(a, b, c))"
   ]
  },
  {
   "cell_type": "code",
   "execution_count": 35,
   "metadata": {},
   "outputs": [
    {
     "name": "stdout",
     "output_type": "stream",
     "text": [
      "Enter the number :24\n",
      "24 is not a prime number\n"
     ]
    }
   ],
   "source": [
    "'''PrimE Numbers or Not'''\n",
    "n = int(input (\"Enter the number :\"))\n",
    "if n > 2 :\n",
    "    for i in range (2,n):\n",
    "        if (n%i)==0:\n",
    "         print(n, \"is not a prime number\")\n",
    "         break\n",
    "    else:\n",
    "        print(n, \"is a prime number\")\n",
    "else:\n",
    "    print(n, \"is not a prime number\")\n"
   ]
  },
  {
   "cell_type": "code",
   "execution_count": 46,
   "metadata": {},
   "outputs": [
    {
     "name": "stdout",
     "output_type": "stream",
     "text": [
      "No of Upper case characters : 3,No of Lower case characters : 15\n"
     ]
    }
   ],
   "source": [
    "'''Write a Python function that accepts a string and calculate the number of upper case letters and lower case letters'''\n",
    "def up_low(s):\n",
    "    u = sum(1 for i in s if i.isupper())\n",
    "    l = sum(1 for i in s if i.islower())\n",
    "    print( \"No of Upper case characters : %s,No of Lower case characters : %s\" % (u,l))\n",
    "up_low(\"Hey Girish ,How are you ?\")"
   ]
  },
  {
   "cell_type": "raw",
   "metadata": {},
   "source": []
  },
  {
   "cell_type": "code",
   "execution_count": 48,
   "metadata": {},
   "outputs": [
    {
     "name": "stdout",
     "output_type": "stream",
     "text": [
      "input the string that to be reversed :Hi Girish How are you \n",
      " uoy era woH hsiriG iH\n"
     ]
    }
   ],
   "source": [
    "'''Write a Python program to reverse a string.'''\n",
    "str1 = input (\"input the string that to be reversed :\")\n",
    "stringlength=len(str1)\n",
    "reversedstring= str1[stringlength::-1]\n",
    "print(reversedstring)"
   ]
  },
  {
   "cell_type": "code",
   "execution_count": 77,
   "metadata": {},
   "outputs": [
    {
     "name": "stdout",
     "output_type": "stream",
     "text": [
      "1\n",
      "3\n"
     ]
    }
   ],
   "source": [
    "'''Python program to find  the greatest common divisor (gcd) of two integers'''\n",
    "def gcd(x, y):\n",
    "\n",
    "    \n",
    "    if x % y == 0:\n",
    "        return y\n",
    "    \n",
    "    for i in range(int(y / 2), 0, -1):\n",
    "        if x % i == 0 and y % i == 0:\n",
    "            gcd = i\n",
    "            break  \n",
    "    return gcd\n",
    "print(gcd(205, 56))\n",
    "print(gcd(3,9))"
   ]
  },
  {
   "cell_type": "code",
   "execution_count": 86,
   "metadata": {},
   "outputs": [
    {
     "name": "stdout",
     "output_type": "stream",
     "text": [
      "Yes its a palindrom\n"
     ]
    }
   ],
   "source": [
    "'''Write a function to find if a string is a palindrome or not!'''\n",
    "def isPalindrome(str):\n",
    "    for i in range (0,int(len(str)/2)):\n",
    "        if str[i] != str[len(str)-i-1]:\n",
    "            return False\n",
    "    return True \n",
    "s= \"malam\"\n",
    "str = isPalindrome(s)\n",
    "if str:\n",
    "    print(\"Yes its a palindrom\")\n",
    "else :\n",
    "    print(\"No its not a palindrome\")\n",
    "    "
   ]
  },
  {
   "cell_type": "code",
   "execution_count": 96,
   "metadata": {},
   "outputs": [
    {
     "name": "stdout",
     "output_type": "stream",
     "text": [
      "No its not a palindrome hsiriG\n"
     ]
    }
   ],
   "source": [
    "'''Write a recurssive function to find if a string is a palindrome or not!'''\n",
    "def isPalindrome(s):\n",
    "    rev = ''.join(reversed(s))\n",
    "    if s == rev:\n",
    "        return True\n",
    "    return False\n",
    "s = \"Girish\"\n",
    "ans = isPalindrome(s)\n",
    "if ans:\n",
    "    print (\"Yes its a palindrome:\",s)\n",
    "else :\n",
    "    print(\"No its not a palindrome\", ''.join(reversed(s)))"
   ]
  }
 ],
 "metadata": {
  "kernelspec": {
   "display_name": "Python 3",
   "language": "python",
   "name": "python3"
  },
  "language_info": {
   "codemirror_mode": {
    "name": "ipython",
    "version": 3
   },
   "file_extension": ".py",
   "mimetype": "text/x-python",
   "name": "python",
   "nbconvert_exporter": "python",
   "pygments_lexer": "ipython3",
   "version": "3.8.5"
  }
 },
 "nbformat": 4,
 "nbformat_minor": 4
}
