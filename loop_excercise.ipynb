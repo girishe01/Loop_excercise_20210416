{
 "cells": [
  {
   "cell_type": "code",
   "execution_count": 3,
   "metadata": {},
   "outputs": [
    {
     "name": "stdout",
     "output_type": "stream",
     "text": [
      "Enter the number of input values :10\n",
      "44\n",
      "66\n",
      "77\n",
      "88\n",
      "99\n",
      "00\n",
      "34\n",
      "53\n",
      "67\n",
      "87\n",
      "[44, 66, 77, 88, 99, 0, 34, 53, 67, 87]\n",
      "Even numbers in the list:  5\n",
      "Odd numbers in the list:  5\n"
     ]
    }
   ],
   "source": [
    "lst = []\n",
    "n = int(input(\"Enter the number of input values :\"))\n",
    "for i in range (0,n):\n",
    "    elements = int(input())\n",
    "    lst.append(elements)\n",
    "print(lst)\n",
    "even_count, odd_count = 0, 0\n",
    "for i in lst :\n",
    "    if i%2==0:\n",
    "        even_count +=1\n",
    "    else:\n",
    "        odd_count += 1\n",
    "          \n",
    "print(\"Even numbers in the list: \", even_count)\n",
    "print(\"Odd numbers in the list: \", odd_count)"
   ]
  },
  {
   "cell_type": "code",
   "execution_count": null,
   "metadata": {},
   "outputs": [],
   "source": [
    "n1= 400\n",
    "for i in range(100,n1):\n",
    "    if i%2==0:\n",
    "        print(i,end=', ')\n",
    "  "
   ]
  },
  {
   "cell_type": "code",
   "execution_count": null,
   "metadata": {},
   "outputs": [],
   "source": [
    "dogs_age = int(input(\"Input a dog's age in human years:\"))\n",
    "if dogs_age < 0:\n",
    "    print(\"Age must be positive number.\")\n",
    "    exit()\n",
    "elif dogs_age <= 2:\n",
    "   h_age = dogs_age *10.5\n",
    "else :\n",
    "   h_age = 21 + (dogs_age -2 )*4\n",
    "print(\"The dog's age in dog's years is:\" ,dogs_age)\n"
   ]
  },
  {
   "cell_type": "code",
   "execution_count": null,
   "metadata": {},
   "outputs": [],
   "source": []
  },
  {
   "cell_type": "code",
   "execution_count": null,
   "metadata": {},
   "outputs": [],
   "source": []
  }
 ],
 "metadata": {
  "kernelspec": {
   "display_name": "Python 3",
   "language": "python",
   "name": "python3"
  },
  "language_info": {
   "codemirror_mode": {
    "name": "ipython",
    "version": 3
   },
   "file_extension": ".py",
   "mimetype": "text/x-python",
   "name": "python",
   "nbconvert_exporter": "python",
   "pygments_lexer": "ipython3",
   "version": "3.8.5"
  }
 },
 "nbformat": 4,
 "nbformat_minor": 4
}
